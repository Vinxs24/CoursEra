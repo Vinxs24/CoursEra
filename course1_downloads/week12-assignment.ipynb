{
 "nbformat": 4,
 "nbformat_minor": 2,
 "metadata": {
  "language_info": {
   "name": "python",
   "codemirror_mode": {
    "name": "ipython",
    "version": 3
   },
   "version": "3.7.6-final"
  },
  "orig_nbformat": 2,
  "file_extension": ".py",
  "mimetype": "text/x-python",
  "name": "python",
  "npconvert_exporter": "python",
  "pygments_lexer": "ipython3",
  "version": 3,
  "kernelspec": {
   "name": "python37464bitbaseconda9a324d203330477fb22bf0ff147f9ebc",
   "display_name": "Python 3.7.4 64-bit ('base': conda)"
  }
 },
 "cells": [
  {
   "cell_type": "code",
   "execution_count": 1,
   "metadata": {},
   "outputs": [
    {
     "output_type": "execute_result",
     "data": {
      "text/plain": "             # Summer  Gold  Silver  Bronze  Total  # Winter  Gold.1  \\\nAfghanistan        13     0       0       2      2         0       0   \nAlgeria            12     5       2       8     15         3       0   \nArgentina          23    18      24      28     70        18       0   \nArmenia             5     1       2       9     12         6       0   \nAustralasia         2     3       4       5     12         0       0   \n\n             Silver.1  Bronze.1  Total.1  # Games  Gold.2  Silver.2  Bronze.2  \\\nAfghanistan         0         0        0       13       0         0         2   \nAlgeria             0         0        0       15       5         2         8   \nArgentina           0         0        0       41      18        24        28   \nArmenia             0         0        0       11       1         2         9   \nAustralasia         0         0        0        2       3         4         5   \n\n             Combined total   ID  \nAfghanistan               2  AFG  \nAlgeria                  15  ALG  \nArgentina                70  ARG  \nArmenia                  12  ARM  \nAustralasia              12  ANZ  ",
      "text/html": "<div>\n<style scoped>\n    .dataframe tbody tr th:only-of-type {\n        vertical-align: middle;\n    }\n\n    .dataframe tbody tr th {\n        vertical-align: top;\n    }\n\n    .dataframe thead th {\n        text-align: right;\n    }\n</style>\n<table border=\"1\" class=\"dataframe\">\n  <thead>\n    <tr style=\"text-align: right;\">\n      <th></th>\n      <th># Summer</th>\n      <th>Gold</th>\n      <th>Silver</th>\n      <th>Bronze</th>\n      <th>Total</th>\n      <th># Winter</th>\n      <th>Gold.1</th>\n      <th>Silver.1</th>\n      <th>Bronze.1</th>\n      <th>Total.1</th>\n      <th># Games</th>\n      <th>Gold.2</th>\n      <th>Silver.2</th>\n      <th>Bronze.2</th>\n      <th>Combined total</th>\n      <th>ID</th>\n    </tr>\n  </thead>\n  <tbody>\n    <tr>\n      <th>Afghanistan</th>\n      <td>13</td>\n      <td>0</td>\n      <td>0</td>\n      <td>2</td>\n      <td>2</td>\n      <td>0</td>\n      <td>0</td>\n      <td>0</td>\n      <td>0</td>\n      <td>0</td>\n      <td>13</td>\n      <td>0</td>\n      <td>0</td>\n      <td>2</td>\n      <td>2</td>\n      <td>AFG</td>\n    </tr>\n    <tr>\n      <th>Algeria</th>\n      <td>12</td>\n      <td>5</td>\n      <td>2</td>\n      <td>8</td>\n      <td>15</td>\n      <td>3</td>\n      <td>0</td>\n      <td>0</td>\n      <td>0</td>\n      <td>0</td>\n      <td>15</td>\n      <td>5</td>\n      <td>2</td>\n      <td>8</td>\n      <td>15</td>\n      <td>ALG</td>\n    </tr>\n    <tr>\n      <th>Argentina</th>\n      <td>23</td>\n      <td>18</td>\n      <td>24</td>\n      <td>28</td>\n      <td>70</td>\n      <td>18</td>\n      <td>0</td>\n      <td>0</td>\n      <td>0</td>\n      <td>0</td>\n      <td>41</td>\n      <td>18</td>\n      <td>24</td>\n      <td>28</td>\n      <td>70</td>\n      <td>ARG</td>\n    </tr>\n    <tr>\n      <th>Armenia</th>\n      <td>5</td>\n      <td>1</td>\n      <td>2</td>\n      <td>9</td>\n      <td>12</td>\n      <td>6</td>\n      <td>0</td>\n      <td>0</td>\n      <td>0</td>\n      <td>0</td>\n      <td>11</td>\n      <td>1</td>\n      <td>2</td>\n      <td>9</td>\n      <td>12</td>\n      <td>ARM</td>\n    </tr>\n    <tr>\n      <th>Australasia</th>\n      <td>2</td>\n      <td>3</td>\n      <td>4</td>\n      <td>5</td>\n      <td>12</td>\n      <td>0</td>\n      <td>0</td>\n      <td>0</td>\n      <td>0</td>\n      <td>0</td>\n      <td>2</td>\n      <td>3</td>\n      <td>4</td>\n      <td>5</td>\n      <td>12</td>\n      <td>ANZ</td>\n    </tr>\n  </tbody>\n</table>\n</div>"
     },
     "metadata": {},
     "execution_count": 1
    }
   ],
   "source": [
    "import pandas as pd\n",
    "\n",
    "df = pd.read_csv('olympics.csv', index_col=0, skiprows=1)\n",
    "\n",
    "for col in df.columns:\n",
    "    if col[:2]=='01':\n",
    "        df.rename(columns={col:'Gold'+col[4:]}, inplace=True)\n",
    "    if col[:2]=='02':\n",
    "        df.rename(columns={col:'Silver'+col[4:]}, inplace=True)\n",
    "    if col[:2]=='03':\n",
    "        df.rename(columns={col:'Bronze'+col[4:]}, inplace=True)\n",
    "    if col[:1]=='№':\n",
    "        df.rename(columns={col:'#'+col[1:]}, inplace=True)\n",
    "\n",
    "names_ids = df.index.str.split('\\s\\(') # split the index by '('\n",
    "\n",
    "df.index = names_ids.str[0] # the [0] element is the country name (new index) \n",
    "df['ID'] = names_ids.str[1].str[:3] # the [1] element is the abbreviation or ID (take first 3 characters from that)\n",
    "\n",
    "df = df.drop('Totals')\n",
    "df.head()"
   ]
  },
  {
   "cell_type": "code",
   "execution_count": 2,
   "metadata": {},
   "outputs": [
    {
     "output_type": "execute_result",
     "data": {
      "text/plain": "# Summer           13\nGold                0\nSilver              0\nBronze              2\nTotal               2\n# Winter            0\nGold.1              0\nSilver.1            0\nBronze.1            0\nTotal.1             0\n# Games            13\nGold.2              0\nSilver.2            0\nBronze.2            2\nCombined total      2\nID                AFG\nName: Afghanistan, dtype: object"
     },
     "metadata": {},
     "execution_count": 2
    }
   ],
   "source": [
    "# You should write your whole answer within the function provided. The autograder will call\n",
    "# this function and compare the return value against the correct solution value\n",
    "def answer_zero():\n",
    "    # This function returns the row for Afghanistan, which is a Series object. The assignment\n",
    "    # question description will tell you the general format the autograder is expecting\n",
    "    return df.iloc[0]\n",
    "\n",
    "# You can examine what your function returns by calling it in the cell. If you have questions\n",
    "# about the assignment formats, check out the discussion forums for any FAQs\n",
    "answer_zero() "
   ]
  },
  {
   "cell_type": "code",
   "execution_count": 3,
   "metadata": {},
   "outputs": [
    {
     "output_type": "execute_result",
     "data": {
      "text/plain": "'United States'"
     },
     "metadata": {},
     "execution_count": 3
    }
   ],
   "source": [
    "#Which country has won the most gold medals in summer games?\n",
    "#This function should return a single string value.\n",
    "def answer_one():\n",
    "    #return df[df['Gold'] == df['Gold'].max()].index[0]\n",
    "    return df['Gold'].idxmax()\n",
    "answer_one()"
   ]
  },
  {
   "cell_type": "code",
   "execution_count": 4,
   "metadata": {},
   "outputs": [
    {
     "output_type": "execute_result",
     "data": {
      "text/plain": "'United States'"
     },
     "metadata": {},
     "execution_count": 4
    }
   ],
   "source": [
    "#Which country had the biggest difference between their summer and winter gold medal counts?\n",
    "def answer_two():\n",
    "    return abs(df['Gold']-df['Gold.1']).idxmax()\n",
    "answer_two()"
   ]
  },
  {
   "cell_type": "code",
   "execution_count": 5,
   "metadata": {},
   "outputs": [
    {
     "output_type": "execute_result",
     "data": {
      "text/plain": "'Bulgaria'"
     },
     "metadata": {},
     "execution_count": 5
    }
   ],
   "source": [
    "#Which country has the biggest difference between their summer gold medal counts and winter gold medal counts relative to their total gold medal count?\n",
    "def answer_three():\n",
    "    return abs((df[(df['Gold.1']>0) & (df['Gold']>0)]['Gold']-df[(df['Gold.1']>0) & (df['Gold']>0)]['Gold.1'])/df[(df['Gold.1']>0) & (df['Gold']>0)]['Gold.2']).idxmax()\n",
    "\n",
    "answer_three()"
   ]
  },
  {
   "cell_type": "code",
   "execution_count": 6,
   "metadata": {},
   "outputs": [
    {
     "output_type": "execute_result",
     "data": {
      "text/plain": "Afghanistan                           2\nAlgeria                              27\nArgentina                           130\nArmenia                              16\nAustralasia                          22\n                                   ... \nYugoslavia                          171\nIndependent Olympic Participants      4\nZambia                                3\nZimbabwe                             18\nMixed team                           38\nLength: 146, dtype: int64"
     },
     "metadata": {},
     "execution_count": 6
    }
   ],
   "source": [
    "#Write a function that creates a Series called \"Points\" which is a weighted value where each gold medal (Gold.2) counts for 3 points, silver medals (Silver.2) for 2 points, and bronze medals (Bronze.2) for 1 point. The function should return only the column (a Series object) which you created, with the country names as indices.\n",
    "def answer_four():\n",
    "    return df['Gold.2']*3+df['Silver.2']*2+df['Bronze.2']\n",
    "answer_four()"
   ]
  },
  {
   "cell_type": "code",
   "execution_count": 7,
   "metadata": {},
   "outputs": [
    {
     "output_type": "execute_result",
     "data": {
      "text/plain": "   SUMLEV  REGION  DIVISION  STATE  COUNTY   STNAME         CTYNAME  \\\n0      40       3         6      1       0  Alabama         Alabama   \n1      50       3         6      1       1  Alabama  Autauga County   \n2      50       3         6      1       3  Alabama  Baldwin County   \n3      50       3         6      1       5  Alabama  Barbour County   \n4      50       3         6      1       7  Alabama     Bibb County   \n\n   CENSUS2010POP  ESTIMATESBASE2010  POPESTIMATE2010  ...  RDOMESTICMIG2011  \\\n0        4779736            4780127          4785161  ...          0.002295   \n1          54571              54571            54660  ...          7.242091   \n2         182265             182265           183193  ...         14.832960   \n3          27457              27457            27341  ...         -4.728132   \n4          22915              22919            22861  ...         -5.527043   \n\n   RDOMESTICMIG2012  RDOMESTICMIG2013  RDOMESTICMIG2014  RDOMESTICMIG2015  \\\n0         -0.193196          0.381066          0.582002         -0.467369   \n1         -2.915927         -3.012349          2.265971         -2.530799   \n2         17.647293         21.845705         19.243287         17.197872   \n3         -2.500690         -7.056824         -3.904217        -10.543299   \n4         -5.068871         -6.201001         -0.177537          0.177258   \n\n   RNETMIG2011  RNETMIG2012  RNETMIG2013  RNETMIG2014  RNETMIG2015  \n0     1.030015     0.826644     1.383282     1.724718     0.712594  \n1     7.606016    -2.626146    -2.722002     2.592270    -2.187333  \n2    15.844176    18.559627    22.727626    20.317142    18.293499  \n3    -4.874741    -2.758113    -7.167664    -3.978583   -10.543299  \n4    -5.088389    -4.363636    -5.403729     0.754533     1.107861  \n\n[5 rows x 100 columns]",
      "text/html": "<div>\n<style scoped>\n    .dataframe tbody tr th:only-of-type {\n        vertical-align: middle;\n    }\n\n    .dataframe tbody tr th {\n        vertical-align: top;\n    }\n\n    .dataframe thead th {\n        text-align: right;\n    }\n</style>\n<table border=\"1\" class=\"dataframe\">\n  <thead>\n    <tr style=\"text-align: right;\">\n      <th></th>\n      <th>SUMLEV</th>\n      <th>REGION</th>\n      <th>DIVISION</th>\n      <th>STATE</th>\n      <th>COUNTY</th>\n      <th>STNAME</th>\n      <th>CTYNAME</th>\n      <th>CENSUS2010POP</th>\n      <th>ESTIMATESBASE2010</th>\n      <th>POPESTIMATE2010</th>\n      <th>...</th>\n      <th>RDOMESTICMIG2011</th>\n      <th>RDOMESTICMIG2012</th>\n      <th>RDOMESTICMIG2013</th>\n      <th>RDOMESTICMIG2014</th>\n      <th>RDOMESTICMIG2015</th>\n      <th>RNETMIG2011</th>\n      <th>RNETMIG2012</th>\n      <th>RNETMIG2013</th>\n      <th>RNETMIG2014</th>\n      <th>RNETMIG2015</th>\n    </tr>\n  </thead>\n  <tbody>\n    <tr>\n      <th>0</th>\n      <td>40</td>\n      <td>3</td>\n      <td>6</td>\n      <td>1</td>\n      <td>0</td>\n      <td>Alabama</td>\n      <td>Alabama</td>\n      <td>4779736</td>\n      <td>4780127</td>\n      <td>4785161</td>\n      <td>...</td>\n      <td>0.002295</td>\n      <td>-0.193196</td>\n      <td>0.381066</td>\n      <td>0.582002</td>\n      <td>-0.467369</td>\n      <td>1.030015</td>\n      <td>0.826644</td>\n      <td>1.383282</td>\n      <td>1.724718</td>\n      <td>0.712594</td>\n    </tr>\n    <tr>\n      <th>1</th>\n      <td>50</td>\n      <td>3</td>\n      <td>6</td>\n      <td>1</td>\n      <td>1</td>\n      <td>Alabama</td>\n      <td>Autauga County</td>\n      <td>54571</td>\n      <td>54571</td>\n      <td>54660</td>\n      <td>...</td>\n      <td>7.242091</td>\n      <td>-2.915927</td>\n      <td>-3.012349</td>\n      <td>2.265971</td>\n      <td>-2.530799</td>\n      <td>7.606016</td>\n      <td>-2.626146</td>\n      <td>-2.722002</td>\n      <td>2.592270</td>\n      <td>-2.187333</td>\n    </tr>\n    <tr>\n      <th>2</th>\n      <td>50</td>\n      <td>3</td>\n      <td>6</td>\n      <td>1</td>\n      <td>3</td>\n      <td>Alabama</td>\n      <td>Baldwin County</td>\n      <td>182265</td>\n      <td>182265</td>\n      <td>183193</td>\n      <td>...</td>\n      <td>14.832960</td>\n      <td>17.647293</td>\n      <td>21.845705</td>\n      <td>19.243287</td>\n      <td>17.197872</td>\n      <td>15.844176</td>\n      <td>18.559627</td>\n      <td>22.727626</td>\n      <td>20.317142</td>\n      <td>18.293499</td>\n    </tr>\n    <tr>\n      <th>3</th>\n      <td>50</td>\n      <td>3</td>\n      <td>6</td>\n      <td>1</td>\n      <td>5</td>\n      <td>Alabama</td>\n      <td>Barbour County</td>\n      <td>27457</td>\n      <td>27457</td>\n      <td>27341</td>\n      <td>...</td>\n      <td>-4.728132</td>\n      <td>-2.500690</td>\n      <td>-7.056824</td>\n      <td>-3.904217</td>\n      <td>-10.543299</td>\n      <td>-4.874741</td>\n      <td>-2.758113</td>\n      <td>-7.167664</td>\n      <td>-3.978583</td>\n      <td>-10.543299</td>\n    </tr>\n    <tr>\n      <th>4</th>\n      <td>50</td>\n      <td>3</td>\n      <td>6</td>\n      <td>1</td>\n      <td>7</td>\n      <td>Alabama</td>\n      <td>Bibb County</td>\n      <td>22915</td>\n      <td>22919</td>\n      <td>22861</td>\n      <td>...</td>\n      <td>-5.527043</td>\n      <td>-5.068871</td>\n      <td>-6.201001</td>\n      <td>-0.177537</td>\n      <td>0.177258</td>\n      <td>-5.088389</td>\n      <td>-4.363636</td>\n      <td>-5.403729</td>\n      <td>0.754533</td>\n      <td>1.107861</td>\n    </tr>\n  </tbody>\n</table>\n<p>5 rows × 100 columns</p>\n</div>"
     },
     "metadata": {},
     "execution_count": 7
    }
   ],
   "source": [
    "census_df = pd.read_csv('census.csv')\n",
    "census_df.head()"
   ]
  },
  {
   "cell_type": "code",
   "execution_count": 8,
   "metadata": {},
   "outputs": [
    {
     "output_type": "execute_result",
     "data": {
      "text/plain": "'Texas'"
     },
     "metadata": {},
     "execution_count": 8
    }
   ],
   "source": [
    "#Which state has the most counties in it? (hint: consider the sumlevel key carefully! You'll need this for future questions too...) / 40 is state, 50 is county in a state\n",
    "def answer_five():\n",
    "    #return census_df[census_df['SUMLEV'] == 50].set_index(['STNAME','COUNTY']).count(level=0).idxmax().iloc[0]\n",
    "    return census_df[census_df['SUMLEV'] == 50].set_index(['STNAME','COUNTY'])['SUMLEV'].count(level=0).idxmax()\n",
    "answer_five()"
   ]
  },
  {
   "cell_type": "code",
   "execution_count": 9,
   "metadata": {},
   "outputs": [
    {
     "output_type": "execute_result",
     "data": {
      "text/plain": "['California', 'Texas', 'Illinois']"
     },
     "metadata": {},
     "execution_count": 9
    }
   ],
   "source": [
    "#Only looking at the three most populous counties for each state, what are the three most populous states (in order of highest population to lowest population)? Use CENSUS2010POP.\n",
    "def answer_six():\n",
    "    return census_df[census_df['SUMLEV'] == 50].set_index('STNAME').sort_values(by=['STNAME','CENSUS2010POP'], ascending=[True,False]).groupby(level=0).head(3)['CENSUS2010POP'].sum(level=0).sort_values(ascending=False)[0:3].index.values.tolist()\n",
    "\n",
    "answer_six()"
   ]
  },
  {
   "cell_type": "code",
   "execution_count": 12,
   "metadata": {},
   "outputs": [
    {
     "output_type": "execute_result",
     "data": {
      "text/plain": "'Harris County'"
     },
     "metadata": {},
     "execution_count": 12
    }
   ],
   "source": [
    "#Which county has had the largest absolute change in population within the period 2010-2015? (Hint: population values are stored in columns POPESTIMATE2010 through POPESTIMATE2015, you need to consider all six columns.)e.g. If County Population in the 5 year period is 100, 120, 80, 105, 100, 130, then its largest change in the period would be |130-80| = 50.\n",
    "def answer_seven():\n",
    "    return (census_df[census_df['SUMLEV'] == 50].set_index('CTYNAME').loc[:,'POPESTIMATE2010':'POPESTIMATE2015'].max(axis=1)-census_df[census_df['SUMLEV'] == 50].set_index('CTYNAME')    .loc[:,'POPESTIMATE2010':'POPESTIMATE2015'].min(axis=1)).sort_values(ascending=False).index[0]\n",
    "\n",
    "answer_seven()"
   ]
  },
  {
   "cell_type": "code",
   "execution_count": 11,
   "metadata": {},
   "outputs": [
    {
     "output_type": "execute_result",
     "data": {
      "text/plain": "            STNAME            CTYNAME\n896           Iowa  Washington County\n1419     Minnesota  Washington County\n2345  Pennsylvania  Washington County\n2355  Rhode Island  Washington County\n3163     Wisconsin  Washington County",
      "text/html": "<div>\n<style scoped>\n    .dataframe tbody tr th:only-of-type {\n        vertical-align: middle;\n    }\n\n    .dataframe tbody tr th {\n        vertical-align: top;\n    }\n\n    .dataframe thead th {\n        text-align: right;\n    }\n</style>\n<table border=\"1\" class=\"dataframe\">\n  <thead>\n    <tr style=\"text-align: right;\">\n      <th></th>\n      <th>STNAME</th>\n      <th>CTYNAME</th>\n    </tr>\n  </thead>\n  <tbody>\n    <tr>\n      <th>896</th>\n      <td>Iowa</td>\n      <td>Washington County</td>\n    </tr>\n    <tr>\n      <th>1419</th>\n      <td>Minnesota</td>\n      <td>Washington County</td>\n    </tr>\n    <tr>\n      <th>2345</th>\n      <td>Pennsylvania</td>\n      <td>Washington County</td>\n    </tr>\n    <tr>\n      <th>2355</th>\n      <td>Rhode Island</td>\n      <td>Washington County</td>\n    </tr>\n    <tr>\n      <th>3163</th>\n      <td>Wisconsin</td>\n      <td>Washington County</td>\n    </tr>\n  </tbody>\n</table>\n</div>"
     },
     "metadata": {},
     "execution_count": 11
    }
   ],
   "source": [
    "# In this datafile, the United States is broken up into four regions using the \"REGION\" column.\n",
    "\n",
    "# Create a query that finds the counties that belong to regions 1 or 2, whose name starts with 'Washington', and whose POPESTIMATE2015 was greater than their POPESTIMATE 2014.\n",
    "def answer_eight():\n",
    "    return census_df[(census_df['SUMLEV'] == 50) & (census_df['REGION'] < 3) & (census_df['CTYNAME'].astype(str).str[0:10] == 'Washington') & (census_df['POPESTIMATE2015'] > census_df['POPESTIMATE2014'])].loc[:,['STNAME','CTYNAME']]\n",
    "\n",
    "answer_eight()"
   ]
  }
 ]
}