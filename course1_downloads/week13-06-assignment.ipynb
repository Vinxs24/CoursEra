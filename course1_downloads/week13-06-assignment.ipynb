{
 "nbformat": 4,
 "nbformat_minor": 2,
 "metadata": {
  "language_info": {
   "name": "python",
   "codemirror_mode": {
    "name": "ipython",
    "version": 3
   },
   "version": "3.7.4-final"
  },
  "orig_nbformat": 2,
  "file_extension": ".py",
  "mimetype": "text/x-python",
  "name": "python",
  "npconvert_exporter": "python",
  "pygments_lexer": "ipython3",
  "version": 3,
  "kernelspec": {
   "name": "python37464bitbaseconda9a324d203330477fb22bf0ff147f9ebc",
   "display_name": "Python 3.7.4 64-bit ('base': conda)"
  }
 },
 "cells": [
  {
   "cell_type": "code",
   "execution_count": null,
   "metadata": {},
   "outputs": [],
   "source": [
    "#loading dataframe\n",
    "import pandas as pd\n",
    "import numpy as np\n",
    "df=pd.read_excel('Energy Indicators.xls', skiprows=17, skipfooter=38,usecols=range(2,6))\n",
    "df.columns=['Country', 'Energy Supply', 'Energy Supply per Capita', '% Renewable']\n",
    "df"
   ]
  },
  {
   "cell_type": "code",
   "execution_count": null,
   "metadata": {},
   "outputs": [],
   "source": [
    "#Question 1 \n",
    "#Remove numbers or parenthesis\n",
    "df['Country']=df['Country'].str.replace('\\d+| \\(.*\\)','')\n",
    "# df.iloc[99]\n",
    "#df.iloc[104]\n",
    "\n",
    "#rename countries\n",
    "countries_to_rename={'Republic of Korea':'South Korea','United States of America':'United States','United Kingdom of Great Britain and Northern Ireland':'United Kingdom','China, Hong Kong Special Administrative Region':'Hong Kong'}\n",
    "\n",
    "for old_name, new_name in countries_to_rename.items():\n",
    "    df['Country'].loc[df['Country'] == old_name] = new_name\n",
    "\n",
    "df"
   ]
  },
  {
   "cell_type": "code",
   "execution_count": null,
   "metadata": {},
   "outputs": [],
   "source": [
    "GDP=pd.read_csv('world_bank.csv', skiprows=3)\n",
    "\n",
    "countries_to_rename={'Korea, Rep.':'South Korea','Iran, Islamic Rep.':'Iran','Hong Kong SAR, China':'Hong Kong'}\n",
    "\n",
    "for old_name, new_name in countries_to_rename.items():\n",
    "    GDP['Country Name'].loc[GDP['Country Name'] == old_name] = new_name\n",
    "\n",
    "GDP"
   ]
  },
  {
   "cell_type": "code",
   "execution_count": null,
   "metadata": {},
   "outputs": [],
   "source": [
    "ScimEn=pd.read_excel('scimagojr.xlsx')\n",
    "ScimEn"
   ]
  },
  {
   "cell_type": "code",
   "execution_count": null,
   "metadata": {},
   "outputs": [],
   "source": [
    "#this method allow to select multiple columns from GDP; In fact i dont need the first columns so i can do something a lot simpler. See next code block\n",
    "(ScimEn.head(15)\n",
    "        .set_index('Country')\n",
    "        .merge(df.set_index('Country'), how='left', left_index=True, right_index=True)\n",
    "        .merge(\n",
    "                GDP.iloc[:, [0,1,2,3] + list(range(GDP.columns.get_loc('2006'),GDP.columns.get_loc('2015')+1))]\n",
    "                    .set_index('Country Name'),\n",
    "                how='left', left_index=True, right_index=True)\n",
    ")\n",
    "\n",
    ""
   ]
  },
  {
   "cell_type": "code",
   "execution_count": null,
   "metadata": {},
   "outputs": [],
   "source": [
    "def answer_one():\n",
    "    return (ScimEn.head(15)\n",
    "                  .set_index('Country')\n",
    "                  .merge(df.set_index('Country'), how='left', left_index=True, right_index=True)\n",
    "                  .merge(GDP.set_index('Country Name').loc[:,'2006':'2015'],how='left', left_index=True,                     right_index=True)\n",
    "            )\n",
    "answer_one()\n",
    ""
   ]
  },
  {
   "cell_type": "code",
   "execution_count": null,
   "metadata": {},
   "outputs": [],
   "source": [
    "#question 3 : What is the average GDP over the last 10 years for each country? \n",
    "dfm= answer_one()\n",
    "def answer_three():\n",
    " return dfm.loc[:,'2006':'2015'].mean(axis=1).sort_values(ascending=False)\n",
    "avgGDP=answer_three()\n",
    "avgGDP"
   ]
  },
  {
   "cell_type": "code",
   "execution_count": null,
   "metadata": {},
   "outputs": [],
   "source": [
    "#By how much had the GDP changed over the 10 year span for the country with the 6th largest average GDP?\n",
    "def answer_four():\n",
    "    # return (dfm[dfm.index == avgGDP.index[5]].loc[:,'2015']-dfm[dfm.index == avgGDP.index[5]].loc[:,'2006']).iloc[0]\n",
    "    return (dfm.loc[:,'2015']-dfm.loc[:,'2006']).loc[avgGDP.index[5]]\n",
    "answer_four()"
   ]
  },
  {
   "cell_type": "code",
   "execution_count": null,
   "metadata": {},
   "outputs": [],
   "source": [
    "# What is the mean `Energy Supply per Capita`?\n",
    "def answer_five():\n",
    "    return dfm['Energy Supply per Capita'].mean()\n",
    "answer_five()"
   ]
  },
  {
   "cell_type": "code",
   "execution_count": null,
   "metadata": {},
   "outputs": [],
   "source": [
    "# What country has the maximum % Renewable and what is the percentage?\n",
    "def answer_six():\n",
    "    return (dfm['% Renewable'].idxmax(),dfm['% Renewable'].max())\n",
    "answer_six()"
   ]
  },
  {
   "cell_type": "code",
   "execution_count": null,
   "metadata": {},
   "outputs": [],
   "source": [
    "# Create a new column that is the ratio of Self-Citations to Total Citations. What is the maximum value for this new column, and what country has the highest ratio?\n",
    "def answer_seven():\n",
    "    dfm['self_to_total']=dfm['Self-citations']/dfm['Citations']\n",
    "    return (dfm['self_to_total'].idxmax(),dfm['self_to_total'].max())\n",
    "answer_seven()\n",
    ""
   ]
  },
  {
   "cell_type": "code",
   "execution_count": null,
   "metadata": {},
   "outputs": [],
   "source": [
    "# Create a column that estimates the population using Energy Supply and Energy Supply per capita. What is the third most populous country according to this estimate?\n",
    "def answer_eight():\n",
    "    dfm['pop']=(dfm['Energy Supply']/dfm['Energy Supply per Capita'])*(10**6)\n",
    "    return dfm['pop'].sort_values(ascending=False).index[2]\n",
    "answer_eight()"
   ]
  },
  {
   "cell_type": "code",
   "execution_count": null,
   "metadata": {},
   "outputs": [],
   "source": [
    "# Create a column that estimates the number of citable documents per person. What is the correlation between the number of citable documents per capita and the energy supply per capita? Use the .corr() method, (Pearson's correlation).\n",
    "\n",
    "def answer_nine():\n",
    "    dfm['cit_by_pers']=dfm['Citable documents']/dfm['pop']\n",
    "    return dfm.loc[:,['cit_by_pers','Energy Supply per Capita']].astype('float').corr(method='pearson').iloc[0,1]\n",
    "\n",
    "answer_nine()\n",
    ""
   ]
  },
  {
   "cell_type": "code",
   "execution_count": null,
   "metadata": {},
   "outputs": [],
   "source": [
    "import matplotlib.pyplot as plt\n",
    "%matplotlib inline\n",
    "\n",
    "dfm.loc[:,['cit_by_pers','Energy Supply per Capita']].astype('float').plot(x='cit_by_pers',y='Energy Supply per Capita',kind='scatter',xlim=[0, 0.0006])\n",
    "\n",
    ""
   ]
  },
  {
   "cell_type": "code",
   "execution_count": null,
   "metadata": {},
   "outputs": [],
   "source": [
    "# Create a new column with a 1 if the country's % Renewable value is at or above the median for all countries in the top 15, and a 0 if the country's % Renewable value is below the median.\n",
    "def answer_ten():\n",
    "    dfm['High Renew'] = (dfm['% Renewable']> dfm['% Renewable'].median()).astype('int')\n",
    "    return dfm['High Renew']\n",
    "\n",
    "answer_ten()"
   ]
  },
  {
   "cell_type": "code",
   "execution_count": null,
   "metadata": {},
   "outputs": [],
   "source": [
    "# Use the following dictionary to group the Countries by Continent, then create a dateframe that displays the sample size (the number of countries in each continent bin), and the sum, mean, and std deviation for the estimated population of each country.\n",
    "ContinentDict  = {'China':'Asia', \n",
    "                  'United States':'North America', \n",
    "                  'Japan':'Asia', \n",
    "                  'United Kingdom':'Europe', \n",
    "                  'Russian Federation':'Europe', \n",
    "                  'Canada':'North America', \n",
    "                  'Germany':'Europe', \n",
    "                  'India':'Asia',\n",
    "                  'France':'Europe', \n",
    "                  'South Korea':'Asia', \n",
    "                  'Italy':'Europe', \n",
    "                  'Spain':'Europe', \n",
    "                  'Iran':'Asia',\n",
    "                  'Australia':'Australia', \n",
    "                  'Brazil':'South America'}\n",
    "def answer_eleven():\n",
    "    return (dfm[['pop']]\n",
    "        .astype('float')\n",
    "        .merge(pd.DataFrame.from_dict(ContinentDict, orient='index', columns=['Continent']),how='left',                left_index=True, right_index=True)\n",
    "        .pivot_table(values='pop',index='Continent', aggfunc={'pop':[np.count_nonzero,np.sum, np.mean,np.std]})\n",
    "        .set_axis(['size', 'sum', 'mean', 'std'], axis=1, inplace=False)\n",
    ")\n",
    "answer_eleven()"
   ]
  },
  {
   "cell_type": "code",
   "execution_count": null,
   "metadata": {},
   "outputs": [],
   "source": [
    "# same with groupby\n",
    "(dfm[['pop']]\n",
    "    .astype('float')\n",
    "    .merge(pd.DataFrame.from_dict(ContinentDict, orient='index', columns=['Continent']),how='left',                left_index=True, right_index=True)\n",
    "    .set_index('Continent')\n",
    "    .sort_index()\n",
    "    .groupby(level=0)\n",
    "    .agg(size=('pop', 'count'), sum=('pop', 'sum'),mean=('pop', 'mean'), std=('pop', 'std'))\n",
    ")\n",
    ""
   ]
  },
  {
   "cell_type": "code",
   "execution_count": null,
   "metadata": {},
   "outputs": [],
   "source": [
    "# Cut % Renewable into 5 bins. Group Top15 by the Continent, as well as these new % Renewable bins. How many countries are in each of these groups?\n",
    "\n",
    "dfm2 = (dfm\n",
    "    .merge(pd.DataFrame.from_dict(ContinentDict, orient='index', columns=['Continent']),how='left',                left_index=True, right_index=True)\n",
    "    .reset_index()\n",
    "    .set_index(['Continent', 'Country'])\n",
    "    .sort_index()\n",
    ")\n",
    "pd.cut(dfm2['% Renewable'],5) "
   ]
  },
  {
   "cell_type": "code",
   "execution_count": null,
   "metadata": {},
   "outputs": [],
   "source": [
    "# Convert the Population Estimate series to a string with thousands separator (using commas). Do not round the results.\n",
    "\n",
    "dfm2.style.format({'pop':'{:,}'})"
   ]
  },
  {
   "cell_type": "code",
   "execution_count": null,
   "metadata": {},
   "outputs": [],
   "source": [
    "%matplotlib inline\n",
    "\n",
    "Top15 = answer_one()\n",
    "ax = Top15.plot(x='Rank', y='% Renewable', kind='scatter', \n",
    "                    c=['#e41a1c','#377eb8','#e41a1c','#4daf4a','#4daf4a','#377eb8','#4daf4a','#e41a1c',\n",
    "                       '#4daf4a','#e41a1c','#4daf4a','#4daf4a','#e41a1c','#dede00','#ff7f00'], \n",
    "                    xticks=range(1,16), s=6*Top15['2014']/10**10, alpha=.75, figsize=[16,6]);\n",
    "\n",
    "for i, txt in enumerate(Top15.index):\n",
    "        ax.annotate(txt, [Top15['Rank'][i], Top15['% Renewable'][i]], ha='center')\n",
    "\n",
    "print(\"This is an example of a visualization that can be created to help understand the data. \\\n",
    "This is a bubble chart showing % Renewable vs. Rank. The size of the bubble corresponds to the countries' \\\n",
    "2014 GDP, and the color corresponds to the continent.\")"
   ]
  },
  {
   "cell_type": "code",
   "execution_count": null,
   "metadata": {},
   "outputs": [],
   "source": []
  }
 ]
}