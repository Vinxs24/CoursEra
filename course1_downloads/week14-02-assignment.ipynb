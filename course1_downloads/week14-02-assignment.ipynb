{
 "nbformat": 4,
 "nbformat_minor": 2,
 "metadata": {
  "language_info": {
   "name": "python",
   "codemirror_mode": {
    "name": "ipython",
    "version": 3
   },
   "version": "3.7.4-final"
  },
  "orig_nbformat": 2,
  "file_extension": ".py",
  "mimetype": "text/x-python",
  "name": "python",
  "npconvert_exporter": "python",
  "pygments_lexer": "ipython3",
  "version": 3,
  "kernelspec": {
   "name": "python37464bitbaseconda9a324d203330477fb22bf0ff147f9ebc",
   "display_name": "Python 3.7.4 64-bit ('base': conda)"
  }
 },
 "cells": [
  {
   "cell_type": "code",
   "execution_count": null,
   "metadata": {},
   "outputs": [],
   "source": [
    "import pandas as pd\n",
    "import numpy as np\n",
    "from scipy.stats import ttest_ind"
   ]
  },
  {
   "cell_type": "code",
   "execution_count": null,
   "metadata": {},
   "outputs": [],
   "source": [
    "# Hypothesis: University towns have their mean housing prices less effected by recessions. Run a t-test to compare the ratio of the mean price of houses in university towns the quarter before the recession starts compared to the recession bottom. (price_ratio=quarter_before_recession/recession_bottom)"
   ]
  },
  {
   "cell_type": "code",
   "execution_count": null,
   "metadata": {},
   "outputs": [],
   "source": [
    "# Use this dictionary to map state names to two letter acronyms\n",
    "states = {'OH': 'Ohio', 'KY': 'Kentucky', 'AS': 'American Samoa', 'NV': 'Nevada', 'WY': 'Wyoming', 'NA': 'National', 'AL': 'Alabama', 'MD': 'Maryland', 'AK': 'Alaska', 'UT': 'Utah', 'OR': 'Oregon', 'MT': 'Montana', 'IL': 'Illinois', 'TN': 'Tennessee', 'DC': 'District of Columbia', 'VT': 'Vermont', 'ID': 'Idaho', 'AR': 'Arkansas', 'ME': 'Maine', 'WA': 'Washington', 'HI': 'Hawaii', 'WI': 'Wisconsin', 'MI': 'Michigan', 'IN': 'Indiana', 'NJ': 'New Jersey', 'AZ': 'Arizona', 'GU': 'Guam', 'MS': 'Mississippi', 'PR': 'Puerto Rico', 'NC': 'North Carolina', 'TX': 'Texas', 'SD': 'South Dakota', 'MP': 'Northern Mariana Islands', 'IA': 'Iowa', 'MO': 'Missouri', 'CT': 'Connecticut', 'WV': 'West Virginia', 'SC': 'South Carolina', 'LA': 'Louisiana', 'KS': 'Kansas', 'NY': 'New York', 'NE': 'Nebraska', 'OK': 'Oklahoma', 'FL': 'Florida', 'CA': 'California', 'CO': 'Colorado', 'PA': 'Pennsylvania', 'DE': 'Delaware', 'NM': 'New Mexico', 'RI': 'Rhode Island', 'MN': 'Minnesota', 'VI': 'Virgin Islands', 'NH': 'New Hampshire', 'MA': 'Massachusetts', 'GA': 'Georgia', 'ND': 'North Dakota', 'VA': 'Virginia'}"
   ]
  },
  {
   "cell_type": "code",
   "execution_count": null,
   "metadata": {},
   "outputs": [],
   "source": [
    "# def get_list_of_university_towns():\n",
    "#     '''Returns a DataFrame of towns and the states they are in from the \n",
    "#     university_towns.txt list. The format of the DataFrame should be:\n",
    "#     DataFrame( [ [\"Michigan\", \"Ann Arbor\"], [\"Michigan\", \"Yipsilanti\"] ], \n",
    "#     columns=[\"State\", \"RegionName\"]  )\n",
    "    \n",
    "#     The following cleaning needs to be done:\n",
    "\n",
    "#     1. For \"State\", removing characters from \"[\" to the end.\n",
    "#     2. For \"RegionName\", when applicable, removing every character from \" (\" to the end.\n",
    "#     3. Depending on how you read the data, you may need to remove newline character '\\n'. '''\n",
    "    \n",
    "#     return \"ANSWER\"\n",
    "# ut=pd.read_fwf('university_towns.txt')"
   ]
  },
  {
   "cell_type": "code",
   "execution_count": null,
   "metadata": {},
   "outputs": [],
   "source": [
    "#Now to put it in one function\n",
    "def get_list_of_university_towns():\n",
    "    '''Returns a DataFrame of towns and the states they are in from the \n",
    "    university_towns.txt list.''' \n",
    "    ut=pd.read_csv('university_towns.txt', sep='|', header=None, names=['RegionName'])\n",
    "    ut['State']=ut[ut['RegionName'].str.match('.*\\[edit\\]$')]\n",
    "    ut['State'].fillna(method='ffill', inplace=True)\n",
    "    ut = ut.reindex(columns=['State', 'RegionName']) #instead of.set_index('State').reset_index()\n",
    "    ut = ut[ut['RegionName'].str.match('(?!.*\\[edit\\]$)')]\n",
    "    ut['State']=ut['State'].str.extract('(.*)(?:\\[edit\\])$')\n",
    "    ut['RegionName']=ut['RegionName'].str.replace('\\d+| \\(.*','')\n",
    "\n",
    "    for acronym, name in states.items():\n",
    "        ut['State'].loc[ut['State'] == name] = acronym\n",
    "\n",
    "    \n",
    "    return ut\n",
    "get_list_of_university_towns()"
   ]
  },
  {
   "cell_type": "code",
   "execution_count": null,
   "metadata": {},
   "outputs": [],
   "source": [
    "# def get_recession_start():\n",
    "#     '''Returns the year and quarter of the recession start time as a \n",
    "#     string value in a format such as 2005q3'''\n",
    "    \n",
    "#     return \"ANSWER\""
   ]
  },
  {
   "cell_type": "code",
   "execution_count": null,
   "metadata": {},
   "outputs": [],
   "source": [
    "df=pd.read_excel('gdplev.xls', skiprows=list(range(5))+[6,7], usecols=list(range(3))+list(range(4,7)))\n",
    "#i keep it here for future reference but we have two distinct dataframes.\n",
    "df=df.rename(columns={'Unnamed: 0':'Year','Unnamed: 4':'Quarter'})\n",
    "quarters=df.loc[:,'Quarter':'GDP in billions of chained 2009 dollars.1']\n",
    "quarters2000=quarters[(quarters['Quarter'].str.extract('(\\d+)',expand=False).astype('float')>=2000)]\n",
    "quarters2000.reset_index(inplace=True, drop=True)\n",
    "quarters2000"
   ]
  },
  {
   "cell_type": "code",
   "execution_count": null,
   "metadata": {},
   "outputs": [],
   "source": [
    "# quarters2000[(quarters2000['GDP in billions of current dollars.1'].shift(1)-quarters['GDP in billions of current dollars.1'])>0]\n",
    "indexplus2=quarters2000[((quarters2000['GDP in billions of current dollars.1'].shift(2)-quarters2000['GDP in billions of current dollars.1'].shift(1))>0) & ((quarters2000['GDP in billions of current dollars.1'].shift(1)-quarters2000['GDP in billions of current dollars.1'])>0 )].index[0]\n",
    "start_crisis=quarters2000.iloc[indexplus2-2,quarters2000.columns.get_loc('Quarter')]\n",
    "start_crisis\n"
   ]
  },
  {
   "cell_type": "code",
   "execution_count": null,
   "metadata": {},
   "outputs": [],
   "source": [
    "def clean_gdp():\n",
    "    df=pd.read_excel('gdplev.xls', skiprows=list(range(5))+[6,7], usecols=list(range(3))+list(range(4,7)))\n",
    "    #i keep it here for future reference but we have two distinct dataframes.\n",
    "    df=df.rename(columns={'Unnamed: 0':'Year','Unnamed: 4':'Quarter'})\n",
    "    quarters=df.loc[:,'Quarter':'GDP in billions of chained 2009 dollars.1']\n",
    "    quarters2000=quarters[(quarters['Quarter'].str.extract('(\\d+)',expand=False).astype('float')>=2000)]\n",
    "    quarters2000.reset_index(inplace=True, drop=True)\n",
    "    return quarters2000\n",
    "clean_gdp()"
   ]
  },
  {
   "cell_type": "code",
   "execution_count": null,
   "metadata": {},
   "outputs": [],
   "source": [
    "#so for the function\n",
    "def get_recession_start():\n",
    "    quarters2000=clean_gdp()\n",
    "    indexplus2=quarters2000[((quarters2000['GDP in billions of current dollars.1'].shift(2)-quarters2000['GDP in billions of current dollars.1'].shift(1))>0) & ((quarters2000['GDP in billions of current dollars.1'].shift(1)-quarters2000['GDP in billions of current dollars.1'])>0 )].index[0]\n",
    "    start_crisis=quarters2000.iloc[indexplus2-2,quarters2000.columns.get_loc('Quarter')]\n",
    "    return start_crisis\n",
    "get_recession_start()"
   ]
  },
  {
   "cell_type": "code",
   "execution_count": null,
   "metadata": {},
   "outputs": [],
   "source": [
    "def get_recession_end():\n",
    "    quarters2000=clean_gdp()\n",
    "    rec_start=get_recession_start()\n",
    "    ind_rec_start=quarters2000[quarters2000['Quarter']== rec_start].index[0]\n",
    "    indexout=quarters2000[((quarters2000['GDP in billions of current dollars.1'].shift(2)-quarters2000['GDP in billions of current dollars.1'].shift(1))<0) & ((quarters2000['GDP in billions of current dollars.1'].shift(1)-quarters2000['GDP in billions of current dollars.1'])<0) & (quarters2000.index>ind_rec_start)].index[0]\n",
    "    stopcrisis = quarters2000.iloc[indexout,quarters2000.columns.get_loc('Quarter')]\n",
    "    return stopcrisis\n",
    "\n",
    "get_recession_end()"
   ]
  },
  {
   "cell_type": "code",
   "execution_count": null,
   "metadata": {},
   "outputs": [],
   "source": [
    "def get_recession_bottom():\n",
    "    '''Returns the year and quarter of the recession bottom time as a \n",
    "    string value in a format such as 2005q3'''\n",
    "    quarters2000=clean_gdp()\n",
    "    rec_start=get_recession_start() \n",
    "    rec_end= get_recession_end()\n",
    "    ind_rec_start=quarters2000[quarters2000['Quarter']== rec_start].index[0]\n",
    "    ind_rec_end=quarters2000[quarters2000['Quarter']== rec_end].index[0] \n",
    "    ind_bottom = quarters2000['GDP in billions of current dollars.1'].iloc[ind_rec_start:ind_rec_end+1].idxmin()\n",
    "    bottomcrisis = quarters2000.iloc[ind_bottom,quarters2000.columns.get_loc('Quarter')]\n",
    "    return bottomcrisis\n",
    "get_recession_bottom()"
   ]
  },
  {
   "cell_type": "code",
   "execution_count": null,
   "metadata": {},
   "outputs": [],
   "source": [
    "# def convert_housing_data_to_quarters():\n",
    "#     '''Converts the housing data to quarters and returns it as mean \n",
    "#     values in a dataframe. This dataframe should be a dataframe with\n",
    "#     columns for 2000q1 through 2016q3, and should have a multi-index\n",
    "#     in the shape of [\"State\",\"RegionName\"].\n",
    "    \n",
    "#     Note: Quarters are defined in the assignment description, they are\n",
    "#     not arbitrary three month periods.\n",
    "    \n",
    "#     The resulting dataframe should have 67 columns, and 10,730 rows.\n",
    "#     '''\n",
    "    \n",
    "#     return \"ANSWER\""
   ]
  },
  {
   "cell_type": "code",
   "execution_count": null,
   "metadata": {},
   "outputs": [],
   "source": [
    "df=pd.read_csv('City_Zhvi_AllHomes.csv', encoding = \"ISO-8859-1\")\n",
    "df"
   ]
  },
  {
   "cell_type": "code",
   "execution_count": null,
   "metadata": {},
   "outputs": [],
   "source": [
    "groupby_dict={}\n",
    "for i in range(0,17):\n",
    "    for j in range(1,13):\n",
    "        if(j<=3):\n",
    "            groupby_dict[(str(2000+i)+ '-'+'{:0>2d}'.format(j))]=(str(2000+i)+ 'q1')\n",
    "        elif(j<=6):\n",
    "            groupby_dict[(str(2000+i)+ '-'+'{:0>2d}'.format(j))]=(str(2000+i)+ 'q2')\n",
    "        elif(j<=9):\n",
    "            groupby_dict[(str(2000+i)+ '-'+'{:0>2d}'.format(j))]=(str(2000+i)+ 'q3')\n",
    "        else:\n",
    "            groupby_dict[(str(2000+i)+ '-'+'{:0>2d}'.format(j))]=(str(2000+i)+ 'q4')\n",
    "\n",
    "groupby_dict"
   ]
  },
  {
   "cell_type": "code",
   "execution_count": null,
   "metadata": {},
   "outputs": [],
   "source": [
    "# dd=df.set_index('RegionID').groupby(groupby_dict,axis=1)\n",
    "\n",
    "df.set_index(['State','RegionName']).loc[:,'2000-01':].groupby(groupby_dict,axis=1).mean()\n"
   ]
  },
  {
   "cell_type": "code",
   "execution_count": null,
   "metadata": {},
   "outputs": [],
   "source": [
    "def convert_housing_data_to_quarters():\n",
    "    df=pd.read_csv('City_Zhvi_AllHomes.csv', encoding = \"ISO-8859-1\")\n",
    "    groupby_dict={}\n",
    "    for i in range(0,17):\n",
    "        for j in range(1,13):\n",
    "            if(j<=3):\n",
    "                groupby_dict[(str(2000+i)+ '-'+'{:0>2d}'.format(j))]=(str(2000+i)+ 'q1')\n",
    "            elif(j<=6):\n",
    "                groupby_dict[(str(2000+i)+ '-'+'{:0>2d}'.format(j))]=(str(2000+i)+ 'q2')\n",
    "            elif(j<=9):\n",
    "                groupby_dict[(str(2000+i)+ '-'+'{:0>2d}'.format(j))]=(str(2000+i)+ 'q3')\n",
    "            else:\n",
    "                groupby_dict[(str(2000+i)+ '-'+'{:0>2d}'.format(j))]=(str(2000+i)+ 'q4')\n",
    "\n",
    "    \n",
    "    return df.set_index(['State','RegionName']).loc[:,'2000-01':].groupby(groupby_dict,axis=1).mean()\n",
    "convert_housing_data_to_quarters()    "
   ]
  },
  {
   "cell_type": "code",
   "execution_count": null,
   "metadata": {},
   "outputs": [],
   "source": [
    "# def run_ttest():\n",
    "#     '''First creates new data showing the decline or growth of housing prices\n",
    "#     between the recession start and the recession bottom. Then runs a ttest\n",
    "#     comparing the university town values to the non-university towns values, \n",
    "#     return whether the alternative hypothesis (that the two groups are the same)\n",
    "#     is true or not as well as the p-value of the confidence. \n",
    "    \n",
    "#     Return the tuple (different, p, better) where different=True if the t-test is\n",
    "#     True at a p<0.01 (we reject the null hypothesis), or different=False if \n",
    "#     otherwise (we cannot reject the null hypothesis). The variable p should\n",
    "#     be equal to the exact p value returned from scipy.stats.ttest_ind(). The\n",
    "#     value for better should be either \"university town\" or \"non-university town\"\n",
    "#     depending on which has a lower mean price ratio (which is equivilent to a\n",
    "#     reduced market loss).'''\n",
    "    \n",
    "#     return \"ANSWER\""
   ]
  },
  {
   "cell_type": "code",
   "execution_count": null,
   "metadata": {},
   "outputs": [],
   "source": [
    "df=convert_housing_data_to_quarters()\n",
    "df=df.loc[:,get_recession_start():get_recession_end()]\n",
    "df"
   ]
  },
  {
   "cell_type": "code",
   "execution_count": null,
   "metadata": {},
   "outputs": [],
   "source": [
    "ut=get_list_of_university_towns().set_index(['State', 'RegionName'])\n",
    "ut['University Town']=True\n",
    "ut\n"
   ]
  },
  {
   "cell_type": "code",
   "execution_count": null,
   "metadata": {},
   "outputs": [],
   "source": [
    "comb = df.merge(ut,how='left',right_index=True,left_index=True)\n",
    "comb['University Town']=comb['University Town'].fillna(False)\n",
    "comb"
   ]
  },
  {
   "cell_type": "code",
   "execution_count": null,
   "metadata": {},
   "outputs": [],
   "source": [
    "university=comb[comb['University Town']==True]\n",
    "nonuniversity=comb[comb['University Town']==False]\n",
    "university_decline=university.iloc[:,-2]-university.iloc[:,0]\n",
    "nonuniversity_decline=nonuniversity.iloc[:,-2]-nonuniversity.iloc[:,0]\n",
    "print(university_decline.mean()/university.iloc[:,0].mean())\n",
    "print(nonuniversity_decline.mean()/nonuniversity.iloc[:,0].mean())"
   ]
  },
  {
   "cell_type": "code",
   "execution_count": null,
   "metadata": {},
   "outputs": [],
   "source": [
    "ttest_ind(university_decline, nonuniversity_decline,nan_policy='omit')"
   ]
  },
  {
   "cell_type": "code",
   "execution_count": null,
   "metadata": {},
   "outputs": [],
   "source": [
    "def run_ttest():\n",
    "    ut=get_list_of_university_towns().set_index(['State', 'RegionName'])\n",
    "    ut['University Town']=True\n",
    "\n",
    "    df=convert_housing_data_to_quarters()\n",
    "    df=df.loc[:,get_recession_start():get_recession_end()]\n",
    "\n",
    "    comb = df.merge(ut,how='left',right_index=True,left_index=True)\n",
    "    comb['University Town']=comb['University Town'].fillna(False)\n",
    "\n",
    "    university=comb[comb['University Town']==True]\n",
    "    nonuniversity=comb[comb['University Town']==False]\n",
    "    university_decline=university.iloc[:,-2]-university.iloc[:,0]\n",
    "    nonuniversity_decline=nonuniversity.iloc[:,-2]-nonuniversity.iloc[:,0]\n",
    "    univ_dec_ratio=university_decline.mean()/university.iloc[:,0].mean()\n",
    "    nonuniv_dec_ratio=nonuniversity_decline.mean()/nonuniversity.iloc[:,0].mean()\n",
    "    better = ('university-town' if univ_dec_ratio>nonuniv_dec_ratio else 'non-university-town')\n",
    "    (stat,p)=ttest_ind(university_decline, nonuniversity_decline,nan_policy='omit')\n",
    "    different = (True if p<0.01 else False)\n",
    "\n",
    "    return(different,p,better)\n",
    "\n",
    "run_ttest()\n"
   ]
  },
  {
   "cell_type": "code",
   "execution_count": null,
   "metadata": {},
   "outputs": [],
   "source": []
  }
 ]
}